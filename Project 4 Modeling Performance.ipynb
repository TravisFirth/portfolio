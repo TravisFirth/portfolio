{
 "cells": [
  {
   "cell_type": "markdown",
   "metadata": {},
   "source": [
    "# ![](https://ga-dash.s3.amazonaws.com/production/assets/logo-9f88ae6c9c3871690e33280fcf557f33.png) \n",
    "\n",
    "# Final Project, Part 4: Modeling Performance\n",
    "\n"
   ]
  },
  {
   "cell_type": "markdown",
   "metadata": {},
   "source": [
    "# 1. Data and Coding Preparation"
   ]
  },
  {
   "cell_type": "markdown",
   "metadata": {},
   "source": [
    "#### Imports"
   ]
  },
  {
   "cell_type": "code",
   "execution_count": 1,
   "metadata": {},
   "outputs": [],
   "source": [
    "from __future__ import division\n",
    "# from my_func import get_linear_model_metrics, time_diff, time_add, time_subtract, dark_mins, race_plan\n",
    "import pandas as pd\n",
    "import numpy as np\n",
    "import matplotlib.pyplot as plt\n",
    "import statsmodels.api as sm\n",
    "import pylab as pl\n",
    "import seaborn as sns\n",
    "from scipy import stats\n",
    "from datetime import datetime, timedelta\n",
    "import time\n",
    "from sklearn import feature_selection, linear_model, metrics, model_selection\n",
    "from sklearn.preprocessing import PolynomialFeatures\n",
    "from sklearn.pipeline import make_pipeline\n",
    "from sklearn.ensemble import RandomForestRegressor\n",
    "%matplotlib inline"
   ]
  },
  {
   "cell_type": "markdown",
   "metadata": {},
   "source": [
    "#### Functions"
   ]
  },
  {
   "cell_type": "code",
   "execution_count": 2,
   "metadata": {},
   "outputs": [
    {
     "ename": "SyntaxError",
     "evalue": "invalid syntax (<ipython-input-2-c95ecb91943f>, line 3)",
     "output_type": "error",
     "traceback": [
      "\u001b[1;36m  File \u001b[1;32m\"<ipython-input-2-c95ecb91943f>\"\u001b[1;36m, line \u001b[1;32m3\u001b[0m\n\u001b[1;33m    def get_linear_mMy odel_metrics_(X, y, algo):\u001b[0m\n\u001b[1;37m                                   ^\u001b[0m\n\u001b[1;31mSyntaxError\u001b[0m\u001b[1;31m:\u001b[0m invalid syntax\n"
     ]
    }
   ],
   "source": [
    "# function to fit model and return key metrics (p-values, coeff, y-int, r-sq)\n",
    "\n",
    "def get_linear_mMy odel_metrics_(X, y, algo):\n",
    "    pvals = feature_selection.f_regression(X, y)[1]  # get the pvalue of X given y. Ignore f-stat for now. \n",
    "    algo.fit(X,y)                                    # .fit() runs the linear regression function on X and y\n",
    "    residuals = (y-algo.predict(X)).values\n",
    "    print('P Values:', pvals)                        # print metrics that are important\n",
    "    print('Coefficients:', algo.coef_)\n",
    "    print('y-intercept:', algo.intercept_)\n",
    "    print('R-Squared:', algo.score(X,y))\n",
    "    plt.figure()\n",
    "    plt.hist(residuals)\n",
    "    return algo"
   ]
  },
  {
   "cell_type": "code",
   "execution_count": 3,
   "metadata": {},
   "outputs": [],
   "source": [
    "def time_diff(t_start, t_end):\n",
    "    diff_mins = (t_end - t_start).seconds/60\n",
    "    return diff_mins\n",
    "\n",
    "def time_add(t1, add_mins):\n",
    "    dur_hr =  int(add_mins/60)\n",
    "    dur_min = int(add_mins)-(dur_hr*60)\n",
    "    dur_sec = int((add_mins-int(add_mins))*60)\n",
    "    add_time = t1 + timedelta(hours = dur_hr, minutes = dur_min, seconds = dur_sec)\n",
    "    return(add_time)\n",
    "\n",
    "def time_subtract(t2, sub_mins):\n",
    "    dur_hr =  int(sub_mins/60)\n",
    "    dur_min = int(sub_mins)-(dur_hr*60)\n",
    "    dur_sec = int((sub_mins-int(sub_mins))*60)\n",
    "    sub_time = t2 - timedelta(hours = dur_hr, minutes = dur_min, seconds = dur_sec)\n",
    "    return(sub_time)\n",
    "\n",
    "def dark_mins(t_arr, s_dur):\n",
    "    if t_arr > sunset:\n",
    "        if s_dur > time_diff(sunset, t_arr):\n",
    "            mins_dark = time_diff(sunset, t_arr)\n",
    "        else:\n",
    "            mins_dark = s_dur\n",
    "    else:    \n",
    "        t_dep = time_subtract(t_arr, s_dur)\n",
    "        if t_dep < sunrise:\n",
    "            if t_arr < sunrise:\n",
    "                mins_dark = s_dur\n",
    "            else:\n",
    "                mins_dark = time_diff(t_dep, sunrise)\n",
    "        else:\n",
    "            mins_dark = 0\n",
    "    \n",
    "    return(mins_dark)\n"
   ]
  },
  {
   "cell_type": "code",
   "execution_count": 4,
   "metadata": {},
   "outputs": [],
   "source": [
    "def race_plan_(pace_s1, pace_s2, pace_s3, pace_s4, pace_s5, pace_s6, pace_s7, pace_s8, r2, m_name):\n",
    "    \n",
    "    out_cols = ['Model Name','Segment', 'Distance', 'Pace (mins/km)','Duration (mins)', 'Race Time','Arrival Time', \n",
    "                'Gels Taken', 'Perpetuam (1 tab)','Fluids Taken (ml)', 'Dark (mins)', 'R2']    \n",
    "    plan_df = pd.DataFrame(columns = out_cols)\n",
    "\n",
    "    label = 's1'\n",
    "    seg_pace = pace_s1\n",
    "    dis = df['dist_' + str(label)].max()\n",
    "    dur = seg_pace * dis\n",
    "    c_dur = dur\n",
    "    mins = str(c_dur/60-int(c_dur/60)*60)\n",
    "    r_time = str(int(c_dur/60)) + \"h \" + str(int((c_dur/60-int(c_dur/60))*60)) + \"m\"\n",
    "    arr = time_add(start,c_dur) \n",
    "    gel = dur / 60 * gel_hr\n",
    "    perp = dur / 60 * perp_hr\n",
    "    fluid = dur / 60 * fluid_hr\n",
    "    dark = dark_mins(arr,dur)\n",
    "    c_dark = dark\n",
    "    seg_df = pd.DataFrame([[m_name, label, dis, seg_pace, dur, r_time, arr, gel, perp, fluid, dark, r2]], columns=out_cols)    \n",
    "    plan_df = plan_df.append(seg_df)\n",
    "    \n",
    "    label = 's2'\n",
    "    seg_pace = pace_s2\n",
    "    dis = df['dist_' + str(label)].max()\n",
    "    dur = seg_pace * dis\n",
    "    c_dur = c_dur + dur\n",
    "    r_time = str(int(c_dur/60)) + \"h \" + str(int((c_dur/60-int(c_dur/60))*60)) + \"m\"\n",
    "    arr = time_add(start,c_dur)\n",
    "    gel = dur / 60 * gel_hr\n",
    "    perp = dur / 60 * perp_hr\n",
    "    fluid = dur / 60 * fluid_hr\n",
    "    dark = dark_mins(arr,dur)\n",
    "    c_dark = c_dark + dark\n",
    "    seg_df = pd.DataFrame([[m_name, label, dis, seg_pace, dur, r_time, arr, gel, perp, fluid, dark, r2]], columns=out_cols)    \n",
    "    plan_df = plan_df.append(seg_df)\n",
    "\n",
    "    label = 's3'\n",
    "    seg_pace = pace_s3\n",
    "    dis = df['dist_' + str(label)].max()\n",
    "    dur = seg_pace * dis\n",
    "    c_dur = c_dur + dur\n",
    "    r_time = str(int(c_dur/60)) + \"h \" + str(int((c_dur/60-int(c_dur/60))*60)) + \"m\"\n",
    "    arr = time_add(start,c_dur)\n",
    "    gel = dur / 60 * gel_hr\n",
    "    perp = dur / 60 * perp_hr\n",
    "    fluid = dur / 60 * fluid_hr\n",
    "    dark = dark_mins(arr,dur)\n",
    "    c_dark = c_dark + dark\n",
    "    seg_df = pd.DataFrame([[m_name, label, dis, seg_pace, dur, r_time, arr, gel, perp, fluid, dark, r2]], columns=out_cols)    \n",
    "    plan_df = plan_df.append(seg_df)\n",
    "    \n",
    "    label = 's4'\n",
    "    seg_pace = pace_s4\n",
    "    dis = df['dist_' + str(label)].max()\n",
    "    dur = seg_pace * dis\n",
    "    c_dur = c_dur + dur\n",
    "    r_time = str(int(c_dur/60)) + \"h \" + str(int((c_dur/60-int(c_dur/60))*60)) + \"m\"\n",
    "    arr = time_add(start,c_dur)\n",
    "    gel = dur / 60 * gel_hr\n",
    "    perp = dur / 60 * perp_hr\n",
    "    fluid = dur / 60 * fluid_hr\n",
    "    dark = dark_mins(arr,dur)\n",
    "    c_dark = c_dark + dark\n",
    "    seg_df = pd.DataFrame([[m_name, label, dis, seg_pace, dur, r_time, arr, gel, perp, fluid, dark, r2]], columns=out_cols)    \n",
    "    plan_df = plan_df.append(seg_df)\n",
    "    \n",
    "    label = 's5'\n",
    "    seg_pace = pace_s5\n",
    "    dis = df['dist_' + str(label)].max()\n",
    "    dur = seg_pace * dis\n",
    "    c_dur = c_dur + dur\n",
    "    r_time = str(int(c_dur/60)) + \"h \" + str(int((c_dur/60-int(c_dur/60))*60)) + \"m\"\n",
    "    arr = time_add(start,c_dur)\n",
    "    gel = dur / 60 * gel_hr\n",
    "    perp = dur / 60 * perp_hr\n",
    "    fluid = dur / 60 * fluid_hr\n",
    "    dark = dark_mins(arr,dur)\n",
    "    c_dark = c_dark + dark\n",
    "    seg_df = pd.DataFrame([[m_name, label, dis, seg_pace, dur, r_time, arr, gel, perp, fluid, dark, r2]], columns=out_cols)    \n",
    "    plan_df = plan_df.append(seg_df)\n",
    "    \n",
    "    label = 's6'\n",
    "    seg_pace = pace_s6\n",
    "    dis = df['dist_' + str(label)].max()\n",
    "    dur = seg_pace * dis\n",
    "    c_dur = c_dur + dur\n",
    "    r_time = str(int(c_dur/60)) + \"h \" + str(int((c_dur/60-int(c_dur/60))*60)) + \"m\"\n",
    "    arr = time_add(start,c_dur)\n",
    "    gel = dur / 60 * gel_hr\n",
    "    perp = dur / 60 * perp_hr\n",
    "    fluid = dur / 60 * fluid_hr\n",
    "    dark = dark_mins(arr,dur)\n",
    "    c_dark = c_dark + dark\n",
    "    seg_df = pd.DataFrame([[m_name, label, dis, seg_pace, dur, r_time, arr, gel, perp, fluid, dark, r2]], columns=out_cols)    \n",
    "    plan_df = plan_df.append(seg_df)\n",
    "    \n",
    "    label = 's7'\n",
    "    seg_pace = pace_s7\n",
    "    dis = df['dist_' + str(label)].max()\n",
    "    dur = seg_pace * dis\n",
    "    c_dur = c_dur + dur\n",
    "    r_time = str(int(c_dur/60)) + \"h \" + str(int((c_dur/60-int(c_dur/60))*60)) + \"m\"\n",
    "    arr = time_add(start,c_dur)\n",
    "    gel = dur / 60 * gel_hr\n",
    "    perp = dur / 60 * perp_hr\n",
    "    fluid = dur / 60 * fluid_hr\n",
    "    dark = dark_mins(arr,dur)\n",
    "    c_dark = c_dark + dark\n",
    "    seg_df = pd.DataFrame([[m_name, label, dis, seg_pace, dur, r_time, arr, gel, perp, fluid, dark, r2]], columns=out_cols)    \n",
    "    plan_df = plan_df.append(seg_df)\n",
    "    \n",
    "    label = 's8'\n",
    "    seg_pace = pace_s8\n",
    "    dis = df['dist_' + str(label)].max()\n",
    "    dur = seg_pace * dis\n",
    "    c_dur = c_dur + dur\n",
    "    r_time = str(int(c_dur/60)) + \"h \" + str(int((c_dur/60-int(c_dur/60))*60)) + \"m\"\n",
    "    arr = time_add(start,c_dur) \n",
    "    gel = dur / 60 * gel_hr\n",
    "    perp = dur / 60 * perp_hr\n",
    "    fluid = dur / 60 * fluid_hr\n",
    "    dark = dark_mins(arr,dur)\n",
    "    c_dark = c_dark + dark\n",
    "    seg_df = pd.DataFrame([[m_name, label, dis, seg_pace, dur, r_time, arr, gel, perp, fluid, dark, r2]], columns=out_cols)    \n",
    "    plan_df = plan_df.append(seg_df)\n",
    "    \n",
    "    label = 'fin'\n",
    "    dis = race_dist\n",
    "    dur = c_dur\n",
    "    seg_pace = c_dur/race_dist\n",
    "    arr = time_add(start,c_dur)\n",
    "    gel = dur / 60 * gel_hr\n",
    "    perp = dur / 60 * perp_hr\n",
    "    fluid = dur / 60 * fluid_hr\n",
    "    dark = c_dark\n",
    "    seg_df = pd.DataFrame([[m_name, label, dis, seg_pace, dur, r_time, arr, gel, perp, fluid, dark, r2]], columns=out_cols)    \n",
    "    plan_df = plan_df.append(seg_df)\n",
    "    \n",
    "    return(plan_df)   "
   ]
  },
  {
   "cell_type": "markdown",
   "metadata": {},
   "source": [
    "#### Reading in Data and Setting Key Race Information"
   ]
  },
  {
   "cell_type": "code",
   "execution_count": 5,
   "metadata": {},
   "outputs": [],
   "source": [
    "df = pd.read_csv('./scc_data.csv')\n",
    "df2 = pd.read_csv('../Data/Results/TF Results.csv')\n",
    "\n",
    "df2['dur_bkt'] = df2.dur_hrs.map(lambda x: '>5hrs' if x > 5 else '3-5hrs' if x >= 3 else '<3hrs')\n",
    "df2['field_size'] = df2['o_tot'].apply(lambda x: 'small' if x < df2['o_tot'].quantile(.25)\n",
    "                                       else 'medium' if x < df2['o_tot'].quantile(.75) else 'large')\n",
    "\n",
    "df2['course_gain'] = df2['gain_km'].apply(lambda x: 'flat' if x < df2['gain_km'].quantile(.25)\n",
    "                                       else 'hills' if x < df2['gain_km'].quantile(.75) else 'mountains')"
   ]
  },
  {
   "cell_type": "code",
   "execution_count": 6,
   "metadata": {},
   "outputs": [],
   "source": [
    "segments = ['s1','s2','s3','s4','s5','s6','s7','s8','fin']   # set race segments\n",
    "FMT = '%H:%M:%S'\n",
    "cal_hr, gel_hr, perp_hr, fluid_hr = 300, 1, 1, 700   # set nutrition requirements parameters\n",
    "ctl, tsb, v02, int_f = 70, 20, 54, .67               # set fitness and effort parameters\n",
    "race_dist = 100                                      # race distance\n",
    "start = datetime.strptime('7:30:00', FMT)            # race start time\n",
    "sunrise = datetime.strptime('5:55:00', FMT)          # civil twilight start\n",
    "sunset = datetime.strptime('18:36:00', FMT)          # civil twilight end\n",
    "est_hr = 141\n",
    "entrants = df[['event_year','ath_cat']].groupby(['event_year']).count().iloc[2].at['ath_cat']"
   ]
  },
  {
   "cell_type": "markdown",
   "metadata": {},
   "source": [
    " \n",
    "# 2.0 Exploratory Data Analysis Summary\n",
    "\n",
    "\n",
    "### Project Problem and Hypothesis\n",
    "\n",
    "##### Why is pacing important?\n",
    "\n",
    "As ultra marathon running races get longer, race day pacing strategies become much more critical to optimise the performance of an athlete. Two key reasons are:\n",
    "\n",
    "1. Starting too fast leads to sub-optimal performance\n",
    "\n",
    "2. Time, not distance, is critical for race planning\n",
    "\n",
    "\n",
    "#### Isn't there a pacing solution available?\n",
    "\n",
    "For shorter distances, runners can practice pacing in training.  However, as races get longer, an athlete cannot readily determine this optimum pace over a long distance as the injury risk and recovery requirements mean that an athlete cannot practice running this distance prior to the race. Runners also cannot always revert to races they ran in previous years as fitness levels change over time and, unless the previous race was on the same course, each course elevation profile requires a different pacing strategy.  \n",
    "\n",
    "\n",
    "#### The Ultra Marathon Pacing Tool Solution\n",
    "\n",
    "To resolve this, the UM pacing tool will predict optimum pace (minutes per km) per race segment based on the hypothesis that an athletes current level of fitness, the course profile and an ideal pacing strategy are key determinants of this optimum pacing strategy.  It will also convert this pace to duration in order to estimate nutrition requirements and expected time of arrival (and departure) at each aid station for spectators.\n",
    "\n",
    "To predict this pace and therefore duration, four input variables will be taken into consideration:\n",
    "1. 'Flat land' 100km pace in mins/km (fl100)\n",
    "2. Adjusting pace for gradient in % of average pace per km (gap)\n",
    "3. Adjusting pace for cardiac drift, which is the natural fatigue a runner experiences over endurance events as a % of average pace per leg (drift).\n",
    "4. Adding for rest time in aid stations in minutes (rest).\n",
    "\n",
    "To predict the value for each of these variables, there are 3 key data sources that will be used:\n",
    "a. Analysing athletes results who previously competed in the target race.\n",
    "b. Using an athlete's own workout data for various races to calculate pacing predictions.\n",
    "c. Collecting course information such as distance between segments and elevation.\n",
    "\n",
    "This scope of this initial solution is to develop a pacing strategy for myself for the Surf Coast Century, but can then benefit other ultra-marathoners by plugging in other course profiles, workout data and race results."
   ]
  },
  {
   "cell_type": "markdown",
   "metadata": {},
   "source": [
    " "
   ]
  },
  {
   "cell_type": "markdown",
   "metadata": {},
   "source": [
    "### Data Dictionary\n",
    "\n",
    "There are three key data sources that are being used for this project.  The first are the surfcoast century results from 2015-2017.  The second is the course data to understand the terrain of the course.  The third is a series of my own workouts to help produce my own personal pace and heart rate equation for different race distances.  \n",
    "\n",
    "**1. Surf Coast Century Race Results**\n",
    "\n",
    "Variable Name | Description | Type of Variable \n",
    "---|---|---\n",
    "o_pos_fin  |Overall finishing position |int64  \n",
    "ath_name  |Name of Athlete / Team | object \n",
    "time_fin  |Overall finishing time | datetime64\n",
    "ath_cat  |Age group or team category | object \n",
    "c_pos_fin  |Finishing position for category | int64 \n",
    "gender  |Male or Female | object \n",
    "g_pos_fin  |Finishing position for Gender | int64  \n",
    "time_s1  |Time taken to complete segment 1 | datetime64 \n",
    "time_s2  |Time taken to complete segment 2 | datetime64 \n",
    "time_s3 |Time taken to complete segment 3 | datetime64 \n",
    "time_s4  |Time taken to complete segment 4 | datetime64 \n",
    "time_s5  |Time taken to complete segment 5 | datetime64 \n",
    "time_s6  |Time taken to complete segment 6 | datetime64 \n",
    "time_s7  |Time taken to complete segment 7 | datetime64 \n",
    "time_s8  |Time taken to complete segment 8 | datetime64 \n",
    "event_year  | Year of the event that the results were from | int64 \n",
    "\n",
    "\n",
    "\n",
    "**2. Course Profiles**\n",
    "\n",
    "Variable Name | Description | Type of Variable \n",
    "---|---|---\n",
    "segment |  The segment number for the course (SCC has 8 segments) | object \n",
    "e_gain |  Elevation gain in metres per kilometre travelled. | float64 \n",
    "e_loss |  Elevation loss in metres per kilometre travelled. | float64 \n",
    "dist |  Distance (km) of the segment. | float64 \n",
    "p_comp |  Percentage of the race that has been completed at the end of the segment. | float64 \n",
    "beach |  % of segment that is on the beach. | float64\n",
    "trail |  % of segment that is on trails. | float64\n",
    "\n",
    "**3. Personal Race Data**\n",
    "\n",
    "Variable Name | Description | Type of Variable \n",
    "---|---|---\n",
    "date | Date of the race. | datetime\n",
    "race | Name of the race. | object\n",
    "distance | Distance (km) of the race. | Int\n",
    "time | Duration taken to complete the race. | datetime\n",
    "dur_hrs | Duration (hrs) taken to complete the race. | float64\n",
    "mins_km | Running pace in minutes per km. | int64\n",
    "training_load (ctl) | Common metric to measure the amount of training completed in the lead up to a race. | int\n",
    "recovery (tsb) | Common metric to measure how well tapered the athlete is for the race. | int\n",
    "fitness (v02) | Estimated v02, a common fitness measure. | int\n",
    "if | A measure of intensity for as workout (%) | float64\n",
    "hr | Average heart rate for the event. | int\n",
    "gain_km | Elevation gain in metres per kilometre travelled. | float64 \n",
    "loss_km | Elevation loss in metres per kilometre travelled. | float64 \n",
    "change_km | Elevation change (gain + loss) in metres per kilometre travelled. | float64 \n",
    "a_per | Age group placing divided by the total competitors in the age group. | float64\n",
    "g_per | Gender placing divided by the total competitors for that gender. | float64\n",
    "o_per | Overall placing divided by the total overall competitors. | float64\n",
    "f_per | Hypothetical female placing divided by the total female competitors. | float64"
   ]
  },
  {
   "cell_type": "markdown",
   "metadata": {},
   "source": [
    " \n"
   ]
  },
  {
   "cell_type": "markdown",
   "metadata": {},
   "source": [
    "\n",
    "# 3. Predicting an ultra based on own pace in previous races.\n",
    "\n",
    "Two models have been chosen to predict a pace for each segment in the Surfcoast Century Ultra.\n",
    "\n",
    "1) A Linear Regression model which provides transparency to each of the coefficients.\n",
    "\n",
    "2) A Random Forest Regressor model which provides a 'black box' solution to fitting but is more efficient at not overfitting or being impacted by multicolinearation.\n"
   ]
  },
  {
   "cell_type": "markdown",
   "metadata": {},
   "source": [
    "### 3.1 Choosing independent variables"
   ]
  },
  {
   "cell_type": "code",
   "execution_count": 16,
   "metadata": {},
   "outputs": [
    {
     "data": {
      "text/html": [
       "<div>\n",
       "<style scoped>\n",
       "    .dataframe tbody tr th:only-of-type {\n",
       "        vertical-align: middle;\n",
       "    }\n",
       "\n",
       "    .dataframe tbody tr th {\n",
       "        vertical-align: top;\n",
       "    }\n",
       "\n",
       "    .dataframe thead th {\n",
       "        text-align: right;\n",
       "    }\n",
       "</style>\n",
       "<table border=\"1\" class=\"dataframe\">\n",
       "  <thead>\n",
       "    <tr style=\"text-align: right;\">\n",
       "      <th></th>\n",
       "      <th>distance</th>\n",
       "      <th>gain_km</th>\n",
       "      <th>training_load (ctl)</th>\n",
       "      <th>recovery (tsb)</th>\n",
       "      <th>fitness (v02)</th>\n",
       "    </tr>\n",
       "  </thead>\n",
       "  <tbody>\n",
       "    <tr>\n",
       "      <th>0</th>\n",
       "      <td>11</td>\n",
       "      <td>15</td>\n",
       "      <td>68</td>\n",
       "      <td>10</td>\n",
       "      <td>52</td>\n",
       "    </tr>\n",
       "    <tr>\n",
       "      <th>1</th>\n",
       "      <td>15</td>\n",
       "      <td>11</td>\n",
       "      <td>63</td>\n",
       "      <td>11</td>\n",
       "      <td>57</td>\n",
       "    </tr>\n",
       "    <tr>\n",
       "      <th>2</th>\n",
       "      <td>15</td>\n",
       "      <td>11</td>\n",
       "      <td>73</td>\n",
       "      <td>14</td>\n",
       "      <td>55</td>\n",
       "    </tr>\n",
       "  </tbody>\n",
       "</table>\n",
       "</div>"
      ],
      "text/plain": [
       "   distance  gain_km  training_load (ctl)  recovery (tsb)  fitness (v02)\n",
       "0        11       15                   68              10             52\n",
       "1        15       11                   63              11             57\n",
       "2        15       11                   73              14             55"
      ]
     },
     "execution_count": 16,
     "metadata": {},
     "output_type": "execute_result"
    }
   ],
   "source": [
    "modeldata.head(3)"
   ]
  },
  {
   "cell_type": "code",
   "execution_count": 17,
   "metadata": {
    "scrolled": false
   },
   "outputs": [
    {
     "data": {
      "image/png": "[encoded data removed]",
      "text/plain": [
       "<Figure size 1440x360 with 2 Axes>"
      ]
     },
     "metadata": {},
     "output_type": "display_data"
    }
   ],
   "source": [
    "time_df = df2[['mins_km', 'if', 'hr', 'distance', 'gain_km', 'training_load (ctl)', 'recovery (tsb)', 'fitness (v02)', \n",
    "               'loss_km', 'change_km', 'dur_bkt']]\n",
    "plt.figure(figsize=(20,5))\n",
    "sns.heatmap(time_df.corr(), annot=True);"
   ]
  },
  {
   "cell_type": "markdown",
   "metadata": {},
   "source": [
    "The y value is minutes per km (mins_km) and is strongley correlated with effort (if, hr), course (gain/loss/change) and distance.  Fitness variables (CTL, TSB, V02max) have weaker correlation to mins_km but don't have any colinearisation either, so will also be included in the initial model.\n",
    "\n",
    "Variable to be using | Colinear variables to drop | Reason for picking the variable\n",
    "---|---|---\n",
    "distance | if, hr, dur_hrs | Distance is needed as an x value to be able to predict min_km for distance at 100km.\n",
    "gain_km | loss_km, change_km | Each of the 3 variables are stronger correlated and elevation gain is the most widely used metric to explain terrain.\n",
    "training load (ctl) | None | Will be in the initial model and removed if not a critical variable.\n",
    "recovery (tsb) | None | Will be in the initial model and removed if not a critical variable.\n",
    "fitness (v02max) | None | Will be in the initial model and removed if not a critical variable.\n",
    "\n",
    "Therefore: **Pace (mins_km)** = function(distance, gain_km, training load (ctl), recovery (tsb), fitness (vO2max))."
   ]
  },
  {
   "cell_type": "code",
   "execution_count": 14,
   "metadata": {},
   "outputs": [],
   "source": [
    "y = df2.mins_km\n",
    "modeldata = df2[['distance','gain_km', 'training_load (ctl)', 'recovery (tsb)','fitness (v02)']]"
   ]
  },
  {
   "cell_type": "markdown",
   "metadata": {},
   "source": [
    "## 3.2 Linear Regression Model\n",
    "\n",
    "#### Initial Linear Regression Model\n",
    "The Linear Regression model below performs well on training data with an r2 of 77%.  However, cross-validation variation of MSA (0.09 - 2.18) indicates that the model is not well suited to testing data."
   ]
  },
  {
   "cell_type": "code",
   "execution_count": 31,
   "metadata": {},
   "outputs": [
    {
     "name": "stdout",
     "output_type": "stream",
     "text": [
      "~~~~ Linear Regression Model ~~~~\n",
      "MSE: 0.22884794462648178\n",
      "R2:  0.8092349149718454\n",
      "\n",
      "~~~~ SUMMARY OF CROSS VALIDATION ~~~~\n",
      "MSE = 0.8140517395166871[0.57672075 0.56772069 0.15558377 1.14583062 1.62440286]\n",
      "r2 = 0.618231820258402[1.13644589 0.33858506 0.11369914 0.82653429 0.67589473]\n"
     ]
    }
   ],
   "source": [
    "lm = linear_model.LinearRegression()\n",
    "model = lm.fit(modeldata, y)\n",
    "\n",
    "print(\"~~~~ Linear Regression Model ~~~~\")\n",
    "print('MSE:', metrics.mean_squared_error(y, lm.predict(modeldata)))\n",
    "print('R2: ', lm.score(modeldata, y))\n",
    "\n",
    "mse = model_selection.cross_val_score(lm, modeldata, y, scoring = 'neg_mean_squared_error', cv = 5)\n",
    "r2 = model_selection.cross_val_score(lm, modeldata, y, scoring = 'r2', cv = 5)\n",
    "print(\"\\n~~~~ SUMMARY OF CROSS VALIDATION ~~~~\")\n",
    "print('MSE = {}{}'.format(- mse.mean(), - mse))\n",
    "print('r2 = {}{}'.format(- r2.mean(), - r2))"
   ]
  },
  {
   "cell_type": "markdown",
   "metadata": {},
   "source": [
    "#### Regularisation of the Linear Regression Model\n",
    "Regularisation will be used to address the variation of MSE on the test data set.  Given the lack of colinearity in the dataset, **lasso** has been selected for regularisation.  MSE has increased from the linear regression model as it is becoming more generalisable.  This can also be seen in the reduction in variation of MSA across each of the folds (0.07 - 1.41)."
   ]
  },
  {
   "cell_type": "code",
   "execution_count": 32,
   "metadata": {},
   "outputs": [
    {
     "name": "stdout",
     "output_type": "stream",
     "text": [
      "~~~~ Lasso Model ~~~~\n",
      "MSE: 0.252715187056994\n",
      "R2:  0.7893394488400628\n",
      "\n",
      "~~~~ SUMMARY OF CROSS VALIDATION ~~~~\n",
      "MSE = 0.5419349977027529[0.15769548 0.46314502 0.0514439  1.35829919 0.6790914 ]\n",
      "r2 = -0.017943985300291197[-0.4158215   0.0920141  -0.63175448  1.16522407 -0.29938212]\n"
     ]
    }
   ],
   "source": [
    "lasso = linear_model.Lasso() \n",
    "lasso.fit(modeldata, y) \n",
    "\n",
    "print(\"~~~~ Lasso Model ~~~~\")\n",
    "print('MSE: {}'.format(metrics.mean_squared_error(y, lasso.predict(modeldata))))\n",
    "print('R2: ', lasso.score(modeldata, y))\n",
    "\n",
    "mse = model_selection.cross_val_score(linear_model.Lasso(), modeldata, y, scoring = 'neg_mean_squared_error', cv = 5)\n",
    "r2 = model_selection.cross_val_score(linear_model.Lasso(), modeldata, y, scoring = 'r2', cv = 5)\n",
    "print(\"\\n~~~~ SUMMARY OF CROSS VALIDATION ~~~~\")\n",
    "print('MSE = {}{}'.format(- mse.mean(), - mse))\n",
    "print('r2 = {}{}'.format(- r2.mean(), - r2))"
   ]
  },
  {
   "cell_type": "markdown",
   "metadata": {},
   "source": [
    "#### Fine Tuning the Linear Regression Model\n",
    "\n",
    "To tune the model, gridsearch is used to optimise each of the tuning parameters, with parameters selecting being alpha, fit_intercept and normalize.  MSE on training data increased from 0.30 to 0.32, but reduced on testing data from 0.64 to 0.61, indicating a more generised model."
   ]
  },
  {
   "cell_type": "code",
   "execution_count": 33,
   "metadata": {},
   "outputs": [
    {
     "name": "stdout",
     "output_type": "stream",
     "text": [
      "~~~~ BEST PARAMETERS ~~~~\n",
      "Best parameters: {'alpha': 1.3738237958832624, 'fit_intercept': True, 'normalize': False}\n",
      "\n",
      "~~~~ Tuned vs Lasso Model ~~~~\n",
      "MSE: 0.2677898956880702 vs 0.252715187056994\n",
      "r2: 0.7767733404641471 vs 0.7893394488400628\n",
      "\n",
      "~~~~ SUMMARY OF CROSS VALIDATION FOR TUNED LASSO ~~~~\n",
      "MSE = 0.515775767244151[0.09037649 0.46650978 0.05793557 1.48939891 0.47465809]\n",
      "r2 = -0.05732612007046509[-0.66520282  0.09994762 -0.58528586  1.37420621 -0.51029575]\n"
     ]
    }
   ],
   "source": [
    "params = {'alpha': np.logspace(-1, 10, 30), 'fit_intercept': [True, False], 'normalize': [True, False]}\n",
    "gs = model_selection.GridSearchCV(linear_model.Lasso(), \n",
    "                                  param_grid = params, \n",
    "                                  cv = 5, \n",
    "                                  n_jobs = -1, \n",
    "                                  scoring = 'neg_mean_squared_error')\n",
    "gs.fit(modeldata, y);\n",
    "print(\"~~~~ BEST PARAMETERS ~~~~\")\n",
    "print('Best parameters: {}'.format(gs.best_params_))\n",
    "\n",
    "t_lasso = linear_model.Lasso(alpha=1.3738237958832624, fit_intercept = True, normalize = False) \n",
    "t_lasso.fit(modeldata, y)\n",
    "print(\"\\n~~~~ Tuned vs Lasso Model ~~~~\")\n",
    "print('MSE: {} vs {}'.format(metrics.mean_squared_error(y, t_lasso.predict(modeldata)), \n",
    "                             metrics.mean_squared_error(y, lasso.predict(modeldata))))\n",
    "print('r2: {} vs {}'.format(t_lasso.score(modeldata, y), lasso.score(modeldata, y)))\n",
    "\n",
    "mse = model_selection.cross_val_score(t_lasso, modeldata, y, scoring = 'neg_mean_squared_error', cv = 5)\n",
    "r2 = model_selection.cross_val_score(t_lasso, modeldata, y, scoring = 'r2', cv = 5)\n",
    "print(\"\\n~~~~ SUMMARY OF CROSS VALIDATION FOR TUNED LASSO ~~~~\")\n",
    "print('MSE = {}{}'.format(- mse.mean(), - mse))\n",
    "print('r2 = {}{}'.format(- r2.mean(), - r2))"
   ]
  },
  {
   "cell_type": "markdown",
   "metadata": {},
   "source": [
    "#### Predicting race performance using the Tuned Lasso Model."
   ]
  },
  {
   "cell_type": "code",
   "execution_count": 34,
   "metadata": {},
   "outputs": [
    {
     "name": "stdout",
     "output_type": "stream",
     "text": [
      "The Tuned Lasso bottom up plan with own race performance metrics results in a predicted finish time of 13h 29m.\n"
     ]
    }
   ],
   "source": [
    "p_df = pd.DataFrame(columns =['seg', 'pace'])\n",
    "for s in segments:\n",
    "    gain = df['e_gain_' + s].max()/df['dist_' + s].max()\n",
    "    scc_df = pd.DataFrame({'distance': [race_dist], 'gain_km': [gain], 'training_load (ctl)': [ctl],\n",
    "                       'recovery (tsb)': [tsb], 'fitness (v02)': [v02]})\n",
    "    pace = t_lasso.predict(scc_df).max()\n",
    "    seg_predict_df = pd.DataFrame([[s,pace]], columns=['seg', 'pace'])    \n",
    "    p_df = p_df.append(seg_predict_df)\n",
    "\n",
    "name_a = \"Using own race metrics (lasso)\"\n",
    "p_df[p_df['seg'] == 's1']['pace'].max() \n",
    "pred_a = race_plan_(p_df[p_df['seg'] == 's1']['pace'].max(), p_df[p_df['seg'] == 's2']['pace'].max(),\n",
    "                    p_df[p_df['seg'] == 's3']['pace'].max(), p_df[p_df['seg'] == 's4']['pace'].max(),\n",
    "                    p_df[p_df['seg'] == 's5']['pace'].max(), p_df[p_df['seg'] == 's6']['pace'].max(),\n",
    "                    p_df[p_df['seg'] == 's7']['pace'].max(), p_df[p_df['seg'] == 's8']['pace'].max(), \n",
    "                    t_lasso.score(modeldata, y), name_a)\n",
    "\n",
    "print(\"The Tuned Lasso bottom up plan with own race performance metrics results in a predicted finish time of {}.\".\n",
    "     format(pred_a.iloc[8].at['Race Time']))"
   ]
  },
  {
   "cell_type": "markdown",
   "metadata": {},
   "source": [
    "## 3.3 Random Forest Regressor Model\n",
    "\n",
    "#### Creating the model and determining feature importance\n",
    "\n",
    "Although the MSE and r2 results from this model are excellent, the results from the feature importance are concerning.  For predicting a race between 20-50km, gain_km will be primary factor with distance being secondary.  However, when competing in 100km or 100 miles ultra's distance would be expected to play a much larger part.  Given the flatter nature of the Surfcoast century, it is expected that this model will predict a much faster time than I am capable of.  This bias is caused by the fact that the dataset only has 10-55km observations in it."
   ]
  },
  {
   "cell_type": "code",
   "execution_count": 35,
   "metadata": {},
   "outputs": [
    {
     "name": "stdout",
     "output_type": "stream",
     "text": [
      "~~~~ SUMMARY OF RANDOM FOREST ~~~~\n",
      "r2 score: 0.9274748562748224\n",
      "mse score: 0.08700350000000019\n"
     ]
    },
    {
     "data": {
      "text/html": [
       "<div>\n",
       "<style scoped>\n",
       "    .dataframe tbody tr th:only-of-type {\n",
       "        vertical-align: middle;\n",
       "    }\n",
       "\n",
       "    .dataframe tbody tr th {\n",
       "        vertical-align: top;\n",
       "    }\n",
       "\n",
       "    .dataframe thead th {\n",
       "        text-align: right;\n",
       "    }\n",
       "</style>\n",
       "<table border=\"1\" class=\"dataframe\">\n",
       "  <thead>\n",
       "    <tr style=\"text-align: right;\">\n",
       "      <th></th>\n",
       "      <th>Features</th>\n",
       "      <th>Importance Score</th>\n",
       "    </tr>\n",
       "  </thead>\n",
       "  <tbody>\n",
       "    <tr>\n",
       "      <th>1</th>\n",
       "      <td>gain_km</td>\n",
       "      <td>0.719701</td>\n",
       "    </tr>\n",
       "    <tr>\n",
       "      <th>0</th>\n",
       "      <td>distance</td>\n",
       "      <td>0.159932</td>\n",
       "    </tr>\n",
       "    <tr>\n",
       "      <th>3</th>\n",
       "      <td>recovery (tsb)</td>\n",
       "      <td>0.056600</td>\n",
       "    </tr>\n",
       "    <tr>\n",
       "      <th>2</th>\n",
       "      <td>training_load (ctl)</td>\n",
       "      <td>0.047263</td>\n",
       "    </tr>\n",
       "    <tr>\n",
       "      <th>4</th>\n",
       "      <td>fitness (v02)</td>\n",
       "      <td>0.016504</td>\n",
       "    </tr>\n",
       "  </tbody>\n",
       "</table>\n",
       "</div>"
      ],
      "text/plain": [
       "              Features  Importance Score\n",
       "1              gain_km          0.719701\n",
       "0             distance          0.159932\n",
       "3       recovery (tsb)          0.056600\n",
       "2  training_load (ctl)          0.047263\n",
       "4        fitness (v02)          0.016504"
      ]
     },
     "execution_count": 35,
     "metadata": {},
     "output_type": "execute_result"
    }
   ],
   "source": [
    "rf = RandomForestRegressor(n_estimators = 20)   \n",
    "rf.fit(modeldata, y)\n",
    "\n",
    "features_df = pd.DataFrame({'Features': modeldata.columns, 'Importance Score': rf.feature_importances_})\n",
    "features_df.sort_values('Importance Score', inplace=True, ascending=False)\n",
    "\n",
    "print(\"~~~~ SUMMARY OF RANDOM FOREST ~~~~\")\n",
    "print('r2 score: {}'.format(rf.score(modeldata,y)))\n",
    "print('mse score: {}'.format(metrics.mean_squared_error(y, rf.predict(modeldata))))\n",
    "features_df.head()"
   ]
  },
  {
   "cell_type": "markdown",
   "metadata": {},
   "source": [
    "To view this bias in the prediction model, the below calculated the predicted finish time for Surfcoast Century using this model, which is at least an hour faster than my best possible expected time."
   ]
  },
  {
   "cell_type": "code",
   "execution_count": 36,
   "metadata": {},
   "outputs": [
    {
     "name": "stdout",
     "output_type": "stream",
     "text": [
      "The RF bottom up plan with own race performance metrics results in a predicted finish time of 9h 19m.\n"
     ]
    }
   ],
   "source": [
    "p_df = pd.DataFrame(columns =['seg', 'pace'])\n",
    "for s in segments:\n",
    "    gain = df['e_gain_' + s].max()/df['dist_' + s].max()\n",
    "    scc_df = pd.DataFrame({'distance': [race_dist], 'gain_km': [gain], 'training_load (ctl)': [ctl],\n",
    "                       'recovery (tsb)': [tsb], 'fitness (v02)': [v02]})\n",
    "    pace = rf.predict(scc_df).max()\n",
    "    seg_predict_df = pd.DataFrame([[s,pace]], columns=['seg', 'pace'])    \n",
    "    p_df = p_df.append(seg_predict_df)\n",
    "\n",
    "name_a = \"Own race metrics (random forest)\"\n",
    "p_df[p_df['seg'] == 's1']['pace'].max() \n",
    "pred_b = race_plan_(p_df[p_df['seg'] == 's1']['pace'].max(), p_df[p_df['seg'] == 's2']['pace'].max(),\n",
    "                    p_df[p_df['seg'] == 's3']['pace'].max(), p_df[p_df['seg'] == 's4']['pace'].max(),\n",
    "                    p_df[p_df['seg'] == 's5']['pace'].max(), p_df[p_df['seg'] == 's6']['pace'].max(),\n",
    "                    p_df[p_df['seg'] == 's7']['pace'].max(), p_df[p_df['seg'] == 's8']['pace'].max(), \n",
    "                    rf.score(modeldata,y), name_a)\n",
    "\n",
    "print(\"The RF bottom up plan with own race performance metrics results in a predicted finish time of {}.\".\n",
    "     format(pred_b.iloc[8].at['Race Time']))"
   ]
  },
  {
   "cell_type": "markdown",
   "metadata": {},
   "source": [
    "#### Fine Tuning\n",
    "To address this, a effort variable called intensity factor (if) had been introduced, which has weakened the importance score of gain_km from .74 to .62."
   ]
  },
  {
   "cell_type": "code",
   "execution_count": 37,
   "metadata": {},
   "outputs": [
    {
     "name": "stdout",
     "output_type": "stream",
     "text": [
      "~~~~ SUMMARY OF RANDOM FOREST ~~~~\n",
      "r2 score: 0.9603684600307946\n",
      "mse score: 0.047543272727272684\n"
     ]
    },
    {
     "data": {
      "text/html": [
       "<div>\n",
       "<style scoped>\n",
       "    .dataframe tbody tr th:only-of-type {\n",
       "        vertical-align: middle;\n",
       "    }\n",
       "\n",
       "    .dataframe tbody tr th {\n",
       "        vertical-align: top;\n",
       "    }\n",
       "\n",
       "    .dataframe thead th {\n",
       "        text-align: right;\n",
       "    }\n",
       "</style>\n",
       "<table border=\"1\" class=\"dataframe\">\n",
       "  <thead>\n",
       "    <tr style=\"text-align: right;\">\n",
       "      <th></th>\n",
       "      <th>Features</th>\n",
       "      <th>Importance Score</th>\n",
       "    </tr>\n",
       "  </thead>\n",
       "  <tbody>\n",
       "    <tr>\n",
       "      <th>1</th>\n",
       "      <td>gain_km</td>\n",
       "      <td>0.551329</td>\n",
       "    </tr>\n",
       "    <tr>\n",
       "      <th>2</th>\n",
       "      <td>if</td>\n",
       "      <td>0.243905</td>\n",
       "    </tr>\n",
       "    <tr>\n",
       "      <th>0</th>\n",
       "      <td>distance</td>\n",
       "      <td>0.098333</td>\n",
       "    </tr>\n",
       "    <tr>\n",
       "      <th>4</th>\n",
       "      <td>recovery (tsb)</td>\n",
       "      <td>0.090557</td>\n",
       "    </tr>\n",
       "    <tr>\n",
       "      <th>3</th>\n",
       "      <td>training_load (ctl)</td>\n",
       "      <td>0.013962</td>\n",
       "    </tr>\n",
       "    <tr>\n",
       "      <th>5</th>\n",
       "      <td>fitness (v02)</td>\n",
       "      <td>0.001914</td>\n",
       "    </tr>\n",
       "  </tbody>\n",
       "</table>\n",
       "</div>"
      ],
      "text/plain": [
       "              Features  Importance Score\n",
       "1              gain_km          0.551329\n",
       "2                   if          0.243905\n",
       "0             distance          0.098333\n",
       "4       recovery (tsb)          0.090557\n",
       "3  training_load (ctl)          0.013962\n",
       "5        fitness (v02)          0.001914"
      ]
     },
     "execution_count": 37,
     "metadata": {},
     "output_type": "execute_result"
    }
   ],
   "source": [
    "modeldata2 = df2[['distance','gain_km', 'if', 'training_load (ctl)', 'recovery (tsb)','fitness (v02)']]\n",
    "rf2 = RandomForestRegressor(n_estimators = 20)   \n",
    "rf2.fit(modeldata2, y)\n",
    "\n",
    "features_df2 = pd.DataFrame({'Features': modeldata2.columns, 'Importance Score': rf2.feature_importances_})\n",
    "features_df2.sort_values('Importance Score', inplace=True, ascending=False)\n",
    "\n",
    "print(\"~~~~ SUMMARY OF RANDOM FOREST ~~~~\")\n",
    "print('r2 score: {}'.format(rf2.score(modeldata2,y)))\n",
    "print('mse score: {}'.format(metrics.mean_squared_error(y, rf2.predict(modeldata2))))\n",
    "features_df2"
   ]
  },
  {
   "cell_type": "markdown",
   "metadata": {},
   "source": [
    "This resulted in a slightly more accurate predicted finish time below, but is still at least 30 mins slower than my best possible time.  This is most likely caused by the low number of observations making random forest a less effective model to choose."
   ]
  },
  {
   "cell_type": "code",
   "execution_count": 38,
   "metadata": {},
   "outputs": [
    {
     "name": "stdout",
     "output_type": "stream",
     "text": [
      "The adjusted RF bottom up plan with own race performance metrics results in a predicted finish time of 10h 22m.\n"
     ]
    }
   ],
   "source": [
    "p_df = pd.DataFrame(columns =['seg', 'pace'])\n",
    "for s in segments:\n",
    "    gain = df['e_gain_' + s].max()/df['dist_' + s].max()\n",
    "    scc_df = pd.DataFrame({'distance': [race_dist], 'gain_km': [gain], 'if': [int_f], 'training_load (ctl)': [ctl],\n",
    "                       'recovery (tsb)': [tsb], 'fitness (v02)': [v02]})\n",
    "    pace = rf2.predict(scc_df).max()\n",
    "    seg_predict_df = pd.DataFrame([[s,pace]], columns=['seg', 'pace'])    \n",
    "    p_df = p_df.append(seg_predict_df)\n",
    "\n",
    "name_b = \"Using own race metrics (random forest)\"\n",
    "p_df[p_df['seg'] == 's1']['pace'].max() \n",
    "pred_b = race_plan_(p_df[p_df['seg'] == 's1']['pace'].max(), p_df[p_df['seg'] == 's2']['pace'].max(),\n",
    "                    p_df[p_df['seg'] == 's3']['pace'].max(), p_df[p_df['seg'] == 's4']['pace'].max(),\n",
    "                    p_df[p_df['seg'] == 's5']['pace'].max(), p_df[p_df['seg'] == 's6']['pace'].max(),\n",
    "                    p_df[p_df['seg'] == 's7']['pace'].max(), p_df[p_df['seg'] == 's8']['pace'].max(), \n",
    "                    rf2.score(modeldata2,y), name_b)\n",
    "\n",
    "print(\"The adjusted RF bottom up plan with own race performance metrics results in a predicted finish time of {}.\".\n",
    "     format(pred_b.iloc[8].at['Race Time']))"
   ]
  },
  {
   "cell_type": "markdown",
   "metadata": {},
   "source": [
    " "
   ]
  },
  {
   "cell_type": "markdown",
   "metadata": {},
   "source": [
    "# 4. Predicting an ultra based on where I placed in previous races.\n",
    "\n",
    "Two models again have been chosen to predict a pace for each segment in the Surfcoast Century Ultra.\n",
    "\n",
    "1) A simpler model of using past race positions to predict future race positions.\n",
    "\n",
    "2) A Linear Regression model to take into account more coefficients and ideally come up with a more accurate placing positions.."
   ]
  },
  {
   "cell_type": "markdown",
   "metadata": {},
   "source": [
    "## 4.1 Picking the dependent variable\n",
    "\n",
    "One way of predicting race times in the past is to look at the past performances of females and target the 3rd place getters time.  However, although 'podiuming with the girls' seems like a common occurance, the data indicates that I have only done this on 43% of occasions.  This is partially due to females being too fast in some races, as well as variations in field sizes.  As such it is recommended to look at the percentage place (not absolute place) in the field againsts a number of different measures, including:\n",
    "\n",
    "1) Age Group (a_per)\n",
    "\n",
    "2) Gender = Male (g_per)\n",
    "\n",
    "3) Overall (o_per)\n",
    "\n",
    "4) Gender = Female (f_per)"
   ]
  },
  {
   "cell_type": "markdown",
   "metadata": {},
   "source": [
    "#### Placing 3rd Hypothesis"
   ]
  },
  {
   "cell_type": "code",
   "execution_count": 39,
   "metadata": {},
   "outputs": [
    {
     "name": "stdout",
     "output_type": "stream",
     "text": [
      "~~~~~~ Liklihood of placing at least 3rd in the Overall Female Category ~~~~~~\n",
      "Times placed at least 3rd: 9\n",
      "Total opportnities to place at least 3rd: 21\n",
      "Probability of finishing 3rd: 0.42857142857142855\n"
     ]
    }
   ],
   "source": [
    "fem_3 = df2[df2['f_pos']<4]['f_pos'].count()\n",
    "fem = df2['f_pos'].count()\n",
    "prob = fem_3 / fem\n",
    "print(\"~~~~~~ Liklihood of placing at least 3rd in the Overall Female Category ~~~~~~\")\n",
    "print(\"Times placed at least 3rd:\",fem_3)\n",
    "print(\"Total opportnities to place at least 3rd:\", fem)\n",
    "print(\"Probability of finishing 3rd:\", prob)"
   ]
  },
  {
   "cell_type": "code",
   "execution_count": 40,
   "metadata": {},
   "outputs": [],
   "source": [
    "place_df = df2[['a_pos', 'a_tot', 'a_per', 'g_pos', 'g_tot', 'g_per', \n",
    "                'o_pos', 'o_tot', 'o_per', 'f_pos', 'f_tot', 'f_per','field_size']].dropna(axis=0)\n",
    "p_place_df = df2[['a_per', 'g_per', 'o_per', 'f_per','field_size']].dropna(axis=0)"
   ]
  },
  {
   "cell_type": "code",
   "execution_count": 41,
   "metadata": {},
   "outputs": [
    {
     "data": {
      "text/html": [
       "<div>\n",
       "<style scoped>\n",
       "    .dataframe tbody tr th:only-of-type {\n",
       "        vertical-align: middle;\n",
       "    }\n",
       "\n",
       "    .dataframe tbody tr th {\n",
       "        vertical-align: top;\n",
       "    }\n",
       "\n",
       "    .dataframe thead th {\n",
       "        text-align: right;\n",
       "    }\n",
       "</style>\n",
       "<table border=\"1\" class=\"dataframe\">\n",
       "  <thead>\n",
       "    <tr style=\"text-align: right;\">\n",
       "      <th></th>\n",
       "      <th>a_per</th>\n",
       "      <th>g_per</th>\n",
       "      <th>o_per</th>\n",
       "      <th>f_per</th>\n",
       "      <th>field_size</th>\n",
       "    </tr>\n",
       "  </thead>\n",
       "  <tbody>\n",
       "    <tr>\n",
       "      <th>0</th>\n",
       "      <td>0.19</td>\n",
       "      <td>0.21</td>\n",
       "      <td>0.11</td>\n",
       "      <td>0.03</td>\n",
       "      <td>large</td>\n",
       "    </tr>\n",
       "    <tr>\n",
       "      <th>1</th>\n",
       "      <td>0.20</td>\n",
       "      <td>0.21</td>\n",
       "      <td>0.13</td>\n",
       "      <td>0.03</td>\n",
       "      <td>medium</td>\n",
       "    </tr>\n",
       "    <tr>\n",
       "      <th>2</th>\n",
       "      <td>0.06</td>\n",
       "      <td>0.15</td>\n",
       "      <td>0.12</td>\n",
       "      <td>0.02</td>\n",
       "      <td>large</td>\n",
       "    </tr>\n",
       "  </tbody>\n",
       "</table>\n",
       "</div>"
      ],
      "text/plain": [
       "   a_per  g_per  o_per  f_per field_size\n",
       "0   0.19   0.21   0.11   0.03      large\n",
       "1   0.20   0.21   0.13   0.03     medium\n",
       "2   0.06   0.15   0.12   0.02      large"
      ]
     },
     "execution_count": 41,
     "metadata": {},
     "output_type": "execute_result"
    }
   ],
   "source": [
    "p_place_df.head(3)"
   ]
  },
  {
   "cell_type": "markdown",
   "metadata": {},
   "source": [
    "#### Targeting a percentage in field metric."
   ]
  },
  {
   "cell_type": "markdown",
   "metadata": {},
   "source": [
    "The left boxplot below illustrates that using my percentage placing in the female field is has much less variation than measuring my percentage place as an age grouper, male or overall.  The 2 outliers for percentage female is driven by a small field size (less than 15).  Removing this from the sample reduces the variation further."
   ]
  },
  {
   "cell_type": "code",
   "execution_count": 42,
   "metadata": {},
   "outputs": [
    {
     "data": {
      "image/png": "[encoded data removed]",
      "text/plain": [
       "<Figure size 1080x360 with 2 Axes>"
      ]
     },
     "metadata": {},
     "output_type": "display_data"
    }
   ],
   "source": [
    "f, axes = plt.subplots(1, 2, sharey = True, figsize=(15,5))\n",
    "sns.boxplot(data=p_place_df,  orient='v', ax=axes[0]).set_title('% placing by age group, gender, overall and female')\n",
    "sns.boxplot(y=\"f_per\", x= \"field_size\", data=df2,  orient='v', ax=axes[1]).set_title('% female by field size');"
   ]
  },
  {
   "cell_type": "markdown",
   "metadata": {},
   "source": [
    "#### Cleaning up the % in female field metric by removing outliers."
   ]
  },
  {
   "cell_type": "code",
   "execution_count": 43,
   "metadata": {},
   "outputs": [
    {
     "name": "stdout",
     "output_type": "stream",
     "text": [
      "~~~~~~ Liklihood of placing in the top 6% of Females ~~~~~~\n",
      "Times placed in at least the top 6%: 11\n",
      "Total opportunities to: 21\n",
      "Probability of finishing in the top 6%: 0.5238095238095238\n"
     ]
    }
   ],
   "source": [
    "mean_f_per = df2[df2['f_tot']>15]['f_per'].mean()\n",
    "count_f_per = df2[df2['f_per']<mean_f_per]['f_per'].count()\n",
    "prob = count_f_per / fem\n",
    "print(\"~~~~~~ Liklihood of placing in the top {}% of Females ~~~~~~\".format(round(int(mean_f_per * 100))))\n",
    "print(\"Times placed in at least the top {}%: {}\".format(round(int(mean_f_per * 100)),count_f_per))\n",
    "print(\"Total opportunities to:\", fem)\n",
    "print(\"Probability of finishing in the top {}%: {}\".format(round(int(mean_f_per * 100)),prob))"
   ]
  },
  {
   "cell_type": "markdown",
   "metadata": {},
   "source": [
    "Buy targeting the percentage of female finishers, with field sizes < 15 removed, it is predicted that I will place in the top 6%, which I have done on 52% of occasions.  This is an improvement in the initial 43% for a podium.  Based on the low variation of results for this group, I am comfortable that the percentage of female finishers is the correct dependant variable."
   ]
  },
  {
   "cell_type": "markdown",
   "metadata": {},
   "source": [
    "#### Predicting Race Performance based on past % in female field results"
   ]
  },
  {
   "cell_type": "code",
   "execution_count": 46,
   "metadata": {},
   "outputs": [
    {
     "name": "stdout",
     "output_type": "stream",
     "text": [
      "It is predicted that I will finish in the top 6.0% of females.\n",
      "Therefore, estimated female placings in 2015, 2016, 2017 are 3.0, 3.0 and 5.0 respectively.\n"
     ]
    }
   ],
   "source": [
    "pos_df = pd.DataFrame({'o_tot': [entrants], 'gain_km': [gain], 'hr': [est_hr], 'fitness (v02)':[v02]})\n",
    "pred_fem = .06\n",
    "fem_17 = round(pred_fem * df[(df['gender']==\"Female\") & (df['event_year']==2017)]['event_year'].count(),0)\n",
    "fem_16 = round(pred_fem * df[(df['gender']==\"Female\") & (df['event_year']==2016)]['event_year'].count(),0)\n",
    "fem_15 = round(pred_fem * df[(df['gender']==\"Female\") & (df['event_year']==2015)]['event_year'].count(),0)\n",
    "print('It is predicted that I will finish in the top {}% of females.'.format(round(pred_fem*100,0)))\n",
    "print('Therefore, estimated female placings in 2015, 2016, 2017 are {}, {} and {} respectively.'\n",
    "      .format(fem_15, fem_16, fem_17))"
   ]
  },
  {
   "cell_type": "code",
   "execution_count": 47,
   "metadata": {},
   "outputs": [
    {
     "name": "stdout",
     "output_type": "stream",
     "text": [
      "Race plan per segment based on finishing in the top 6.0% of females results in a predicted finish time of 10h 37m.\n"
     ]
    }
   ],
   "source": [
    "rank_df = df\n",
    "rank_df['gen_rank'] = rank_df.groupby(['gender','event_year'])['pace_fin'].rank(ascending=True)\n",
    "fem17 = rank_df[(rank_df['event_year']==2017)&(rank_df['gender']=='Female')&(rank_df['gen_rank']==5)]\n",
    "fem16 = rank_df[(rank_df['event_year']==2016)&(rank_df['gender']=='Female')&(rank_df['gen_rank']==3)]\n",
    "fem15 = rank_df[(rank_df['event_year']==2015)&(rank_df['gender']=='Female')&(rank_df['gen_rank']==3)]\n",
    "fem_df = fem15.append(fem16, ignore_index = True)\n",
    "fem_df = fem_df.append(fem17, ignore_index = True)\n",
    "\n",
    "fem_s1 = fem_df.pace_s1.mean()\n",
    "fem_s2 = fem_df.pace_s2.mean()\n",
    "fem_s3 = fem_df.pace_s3.mean()\n",
    "fem_s4 = fem_df.pace_s4.mean()\n",
    "fem_s5 = fem_df.pace_s5.mean()\n",
    "fem_s6 = fem_df.pace_s6.mean()\n",
    "fem_s7 = fem_df.pace_s7.mean()\n",
    "fem_s8 = fem_df.pace_s8.mean()\n",
    "desc_c = \"Race plan per segment based on finishing in the top {}% of females\".format(round(pred_fem*100,0))\n",
    "name_c = 'Top {}% of Females (Past Ave)'.format(round(pred_fem*100,0))\n",
    "pred_c = race_plan_(fem_s1, fem_s2, fem_s3, fem_s4, fem_s5, fem_s6, fem_s7, fem_s8, prob, name_c)\n",
    "print(\"{} results in a predicted finish time of {}.\".format(desc_c, pred_c.iloc[8].at['Race Time']))"
   ]
  },
  {
   "cell_type": "markdown",
   "metadata": {},
   "source": [
    "This way of estimating performance indicates that I will finish the durfcoast century in 10.5 hours, which is optmistic. To enable me to better predict where I will place in the Surfcoast Century, a linear regression model will also be used, as it may help explain some of the unexplained variation which result in me only achieving the top 6% on half the races I compete in."
   ]
  },
  {
   "cell_type": "markdown",
   "metadata": {},
   "source": [
    "## 3.2 Linear Regression Model\n",
    "\n",
    "#### Choosing Dependent Variables\n",
    "With the dependent variable being the percentage finish across the field of women (f_per), the target independent variables are listed in the heatmap below."
   ]
  },
  {
   "cell_type": "code",
   "execution_count": 53,
   "metadata": {},
   "outputs": [
    {
     "data": {
      "image/png": "[encoded data removed]",
      "text/plain": [
       "<Figure size 1440x360 with 2 Axes>"
      ]
     },
     "metadata": {},
     "output_type": "display_data"
    }
   ],
   "source": [
    "place_cols = ['f_per', 'distance', 'training_load (ctl)', 'recovery (tsb)',  'if', 'hr', 'fitness (v02)', 'gain_km', \n",
    "              'o_tot', 'dur_bkt', 'field_size', 'course_gain']\n",
    "fem_place = df2[df2['f_tot']>15][place_cols]\n",
    "plt.figure(figsize=(20,5))\n",
    "sns.heatmap(fem_place.corr(), annot=True);"
   ]
  },
  {
   "cell_type": "markdown",
   "metadata": {},
   "source": [
    "f_per is strongly correlated with effort (if, hr) and distance, as well as being moderately correlated with gain_km. \n",
    "\n",
    "Variable to be using | Colinear variables to drop | Reason for picking the variable\n",
    "---|---|---\n",
    "hr | if, distance | hr is the strongest corelated variable to f_per.\n",
    "gain_km | loss_km, change_km | Elevation gain is the most widely used metric to explain terrain.\n",
    "fitness (v02) | none | Next strongest variable.\n",
    "o_tot | none | Next strongest variable.\n",
    "\n",
    "Therefore: **% of Females (f_per)** = function(hr, gain_km, fitness (v02), o_tot)."
   ]
  },
  {
   "cell_type": "code",
   "execution_count": 49,
   "metadata": {},
   "outputs": [],
   "source": [
    "y = fem_place[['f_per']]\n",
    "modeldata = fem_place[['o_tot', 'gain_km', 'hr', 'fitness (v02)']]"
   ]
  },
  {
   "cell_type": "markdown",
   "metadata": {},
   "source": [
    "#### Initial Linear Regression Model\n",
    "The Linear Regression model below performs well on training data with an r2 of 79%.  The cross-validation variation of MSA (0.0002 - 0.0007) indicates that the model is also moderately suited to testing data."
   ]
  },
  {
   "cell_type": "code",
   "execution_count": 50,
   "metadata": {},
   "outputs": [
    {
     "name": "stdout",
     "output_type": "stream",
     "text": [
      "~~~~ Linear Regression Model ~~~~\n",
      "MSE: 0.00025544905831857744\n",
      "R2:  0.786138427520857\n",
      "\n",
      "~~~~ SUMMARY OF CROSS VALIDATION ~~~~\n",
      "MSE = 0.0005138738379713741[0.00024614 0.00069659 0.00026213 0.00057049 0.00079401]\n",
      "r2 = 2.958915819651944[12.12762689 -0.24181063 -0.72940933 -0.4662079   4.10438006]\n"
     ]
    }
   ],
   "source": [
    "lm = linear_model.LinearRegression()\n",
    "model = lm.fit(modeldata, y)\n",
    "\n",
    "print(\"~~~~ Linear Regression Model ~~~~\")\n",
    "print('MSE:', metrics.mean_squared_error(y, lm.predict(modeldata)))\n",
    "print('R2: ', lm.score(modeldata, y))\n",
    "\n",
    "mse = model_selection.cross_val_score(lm, modeldata, y, scoring = 'neg_mean_squared_error', cv = 5)\n",
    "r2 = model_selection.cross_val_score(lm, modeldata, y, scoring = 'r2', cv = 5)\n",
    "print(\"\\n~~~~ SUMMARY OF CROSS VALIDATION ~~~~\")\n",
    "print('MSE = {}{}'.format(- mse.mean(), - mse))\n",
    "print('r2 = {}{}'.format(- r2.mean(), - r2))"
   ]
  },
  {
   "cell_type": "markdown",
   "metadata": {},
   "source": [
    "#### Regularising with Ridge"
   ]
  },
  {
   "cell_type": "code",
   "execution_count": 51,
   "metadata": {},
   "outputs": [
    {
     "name": "stdout",
     "output_type": "stream",
     "text": [
      "~~~~ Ridge Model ~~~~\n",
      "MSE: 0.00025558769259694084\n",
      "R2:  0.7860223631087764\n",
      "\n",
      "~~~~ SUMMARY OF CROSS VALIDATION ~~~~\n",
      "MSE = 0.0005132157771190173[0.0002307  0.00072591 0.00025577 0.00056981 0.00078389]\n",
      "r2 = 2.786147141068027[11.30414736 -0.20989791 -0.73598253 -0.46684474  4.03931352]\n"
     ]
    }
   ],
   "source": [
    "ridge = linear_model.Ridge() \n",
    "ridge.fit(modeldata, y) \n",
    "\n",
    "print(\"~~~~ Ridge Model ~~~~\")\n",
    "print('MSE: {}'.format(metrics.mean_squared_error(y, ridge.predict(modeldata))))\n",
    "print('R2: ', ridge.score(modeldata, y))\n",
    "\n",
    "mse = model_selection.cross_val_score(linear_model.Ridge(), modeldata, y, scoring = 'neg_mean_squared_error', cv = 5)\n",
    "r2 = model_selection.cross_val_score(linear_model.Ridge(), modeldata, y, scoring = 'r2', cv = 5)\n",
    "print(\"\\n~~~~ SUMMARY OF CROSS VALIDATION ~~~~\")\n",
    "print('MSE = {}{}'.format(- mse.mean(), - mse))\n",
    "print('r2 = {}{}'.format(- r2.mean(), - r2))"
   ]
  },
  {
   "cell_type": "markdown",
   "metadata": {},
   "source": [
    "#### Tuning"
   ]
  },
  {
   "cell_type": "code",
   "execution_count": 52,
   "metadata": {},
   "outputs": [
    {
     "name": "stdout",
     "output_type": "stream",
     "text": [
      "~~~~ BEST PARAMETERS ~~~~\n",
      "Best parameters: {'alpha': 0.1, 'fit_intercept': True, 'normalize': True}\n",
      "\n",
      "~~~~ Tuned vs Ridge Model ~~~~\n",
      "MSE: 0.00028165393082867877 vs 0.00025558769259694084\n",
      "r2: 0.7641997471494596 vs 0.7860223631087764\n",
      "\n",
      "~~~~ SUMMARY OF CROSS VALIDATION FOR TUNED RIDGE ~~~~\n",
      "MSE = 0.0004851798457777591[0.00014845 0.00077626 0.00022359 0.00058182 0.00069577]\n",
      "r2 = 1.8021005679171889[ 6.91758251 -0.15509371 -0.76919319 -0.45560516  3.47281238]\n"
     ]
    }
   ],
   "source": [
    "params = {'alpha': np.logspace(-1, 10, 30), 'fit_intercept': [True, False], 'normalize': [True, False]}\n",
    "gs = model_selection.GridSearchCV(linear_model.Ridge(), \n",
    "                                  param_grid = params, \n",
    "                                  cv = 5, \n",
    "                                  n_jobs = -1, \n",
    "                                  scoring = 'neg_mean_squared_error')\n",
    "gs.fit(modeldata, y);\n",
    "print(\"~~~~ BEST PARAMETERS ~~~~\")\n",
    "print('Best parameters: {}'.format(gs.best_params_))\n",
    "\n",
    "t_ridge = linear_model.Ridge(alpha=0.1, fit_intercept = True, normalize = True) \n",
    "t_ridge.fit(modeldata, y)\n",
    "print(\"\\n~~~~ Tuned vs Ridge Model ~~~~\")\n",
    "print('MSE: {} vs {}'.format(metrics.mean_squared_error(y, t_ridge.predict(modeldata)), \n",
    "                             metrics.mean_squared_error(y, ridge.predict(modeldata))))\n",
    "print('r2: {} vs {}'.format(t_ridge.score(modeldata, y), ridge.score(modeldata, y)))\n",
    "\n",
    "mse = model_selection.cross_val_score(t_ridge, modeldata, y, scoring = 'neg_mean_squared_error', cv = 5)\n",
    "r2 = model_selection.cross_val_score(t_ridge, modeldata, y, scoring = 'r2', cv = 5)\n",
    "print(\"\\n~~~~ SUMMARY OF CROSS VALIDATION FOR TUNED RIDGE ~~~~\")\n",
    "print('MSE = {}{}'.format(- mse.mean(), - mse))\n",
    "print('r2 = {}{}'.format(- r2.mean(), - r2))"
   ]
  },
  {
   "cell_type": "markdown",
   "metadata": {},
   "source": [
    "#### Predicting Race Performance\n",
    "Regularisation and Tuning didn't have any impact on the accuracy of the model, so the initial linear regression model had been used to predict my Surfcoast placing as a percentage of all females.  With an r2 score of 79%, this is a significant improvement from the prediction that I made without a model.\n"
   ]
  },
  {
   "cell_type": "code",
   "execution_count": 28,
   "metadata": {},
   "outputs": [
    {
     "name": "stdout",
     "output_type": "stream",
     "text": [
      "It is predicted that I will finish in the top 18.0% of females.\n",
      "Therefore, estimated female placings in 2015, 2016, 2017 are 10.0, 10.0 and 14.0 respectively.\n"
     ]
    }
   ],
   "source": [
    "pos_df = pd.DataFrame({'o_tot': [entrants], 'gain_km': [gain], 'hr': [est_hr], 'fitness (v02)':[v02]})\n",
    "pred_fem = lm.predict(pos_df).max()\n",
    "fem_17 = round(pred_fem * df[(df['gender']==\"Female\") & (df['event_year']==2017)]['event_year'].count(),0)\n",
    "fem_16 = round(pred_fem * df[(df['gender']==\"Female\") & (df['event_year']==2016)]['event_year'].count(),0)\n",
    "fem_15 = round(pred_fem * df[(df['gender']==\"Female\") & (df['event_year']==2015)]['event_year'].count(),0)\n",
    "print('It is predicted that I will finish in the top {}% of females.'.format(round(pred_fem*100,0)))\n",
    "print('Therefore, estimated female placings in 2015, 2016, 2017 are {}, {} and {} respectively.'.format(fem_15, fem_16, fem_17))"
   ]
  },
  {
   "cell_type": "code",
   "execution_count": 29,
   "metadata": {},
   "outputs": [
    {
     "name": "stdout",
     "output_type": "stream",
     "text": [
      "Race plan per segment based on finishing in the top 18.0% of females results in a predicted finish time of 12h 33m.\n"
     ]
    }
   ],
   "source": [
    "cols_to_keep = ['pace_fin', 'pace_s1', 'pace_s2', 'pace_s3', \n",
    "                'pace_s4', 'pace_s5', 'pace_s6', 'pace_s7', 'pace_s8']\n",
    "rank_df = df\n",
    "rank_df['gen_rank'] = rank_df.groupby(['gender','event_year'])['pace_fin'].rank(ascending=True)\n",
    "fem17 = rank_df[(rank_df['event_year']==2017)&(rank_df['gender']=='Female')&(rank_df['gen_rank']==14)]\n",
    "fem16 = rank_df[(rank_df['event_year']==2016)&(rank_df['gender']=='Female')&(rank_df['gen_rank']==10)]\n",
    "fem15 = rank_df[(rank_df['event_year']==2015)&(rank_df['gender']=='Female')&(rank_df['gen_rank']==10)]\n",
    "fem_df = fem15.append(fem16, ignore_index = True)\n",
    "fem_df = fem_df.append(fem17, ignore_index = True)\n",
    "\n",
    "fem_s1 = fem_df.pace_s1.mean()\n",
    "fem_s2 = fem_df.pace_s2.mean()\n",
    "fem_s3 = fem_df.pace_s3.mean()\n",
    "fem_s4 = fem_df.pace_s4.mean()\n",
    "fem_s5 = fem_df.pace_s5.mean()\n",
    "fem_s6 = fem_df.pace_s6.mean()\n",
    "fem_s7 = fem_df.pace_s7.mean()\n",
    "fem_s8 = fem_df.pace_s8.mean()\n",
    "desc_d = \"Race plan per segment based on finishing in the top {}% of females\".format(round(pred_fem*100,0))\n",
    "name_d = 'Top {}% of Females (LR)'.format(round(pred_fem*100,0))\n",
    "pred_d = race_plan_(fem_s1, fem_s2, fem_s3, fem_s4, fem_s5, fem_s6, fem_s7, fem_s8, lm.score(modeldata, y),name_d)\n",
    "print(\"{} results in a predicted finish time of {}.\".format(desc_d, pred_d.iloc[8].at['Race Time']))"
   ]
  },
  {
   "cell_type": "markdown",
   "metadata": {},
   "source": [
    "# 4.0 Conclusion\n",
    "\n",
    "\n",
    "## 4.1 Model Output Summary\n",
    "\n",
    "The four different race predictions are depicted in the chart below and range from 9.5 to 13.5hours.  There is a difference of 4 gels and 3 litres of energy drink and in terms of illumination, a difference between not need a headlap at all vs having to wear one for 2.5 hours. "
   ]
  },
  {
   "cell_type": "markdown",
   "metadata": {},
   "source": [
    "## 4.2 Areas where new data could help improve the model\n",
    "\n",
    "The models could be improved by making them more accurate with broader and larger sample sizes.  These also could be made more varsatile so that the can be easily reconfigured to predict race times on a variety of courses for a variety of athletes.  Based on this, key areas for improvement are as follows:\n",
    "\n",
    "- **Larger Athlete Sample Size:** Athlete's don't race often enough so race information is either too small or too old.   To get better sample sizes, athlete training data needs to be included also.  This would skew the the models as traiing runs are not run at race intensity.  Therefore, the inclusion of this data would need to be accompanied by a model that can use 'intensity factor' to adjust for this.\n",
    "\n",
    "\n",
    "- **Environmental Data: ** More in depth environmental data would help with pacing predictions, and further explaining uncertainties.  This would include wind direction, wind strength, temperature and humidity.\n",
    "\n",
    "\n",
    "- **Course Information: **More in depth course data would also help improve the model.  This could include GPS course date which includes elevation change, direction and pace every 3 metres, which could be used to better predict hill climbing speeds, as well as recognising technical trails with lots of direction changes.  Ideally , these could also be transposed to determine the groud under foot (sand, road, trail, stairs, river crossing).\n",
    "\n",
    "\n",
    "- **Equipment: ** Using some the advanced course and environmental information above, further equipment recommendations could be built into the model, including hills that benefit from trekking poles, potential change of shoes after river crossings and expected temp at each segment to help determine running clothes."
   ]
  },
  {
   "cell_type": "code",
   "execution_count": 30,
   "metadata": {},
   "outputs": [
    {
     "data": {
      "text/html": [
       "<div>\n",
       "<style scoped>\n",
       "    .dataframe tbody tr th:only-of-type {\n",
       "        vertical-align: middle;\n",
       "    }\n",
       "\n",
       "    .dataframe tbody tr th {\n",
       "        vertical-align: top;\n",
       "    }\n",
       "\n",
       "    .dataframe thead th {\n",
       "        text-align: right;\n",
       "    }\n",
       "</style>\n",
       "<table border=\"1\" class=\"dataframe\">\n",
       "  <thead>\n",
       "    <tr style=\"text-align: right;\">\n",
       "      <th></th>\n",
       "      <th>Model Name</th>\n",
       "      <th>Race Time</th>\n",
       "      <th>Arrival Time</th>\n",
       "      <th>Gels Taken</th>\n",
       "      <th>Perpetuam (1 tab)</th>\n",
       "      <th>Fluids Taken (ml)</th>\n",
       "      <th>Dark (mins)</th>\n",
       "      <th>R2</th>\n",
       "    </tr>\n",
       "  </thead>\n",
       "  <tbody>\n",
       "    <tr>\n",
       "      <th>0</th>\n",
       "      <td>Using own race metrics (random forest)</td>\n",
       "      <td>9h 30m</td>\n",
       "      <td>1900-01-01 17:00:27</td>\n",
       "      <td>9.507698</td>\n",
       "      <td>9.507698</td>\n",
       "      <td>6655.388250</td>\n",
       "      <td>0</td>\n",
       "      <td>0.944219</td>\n",
       "    </tr>\n",
       "    <tr>\n",
       "      <th>0</th>\n",
       "      <td>Top 6.0% of Females (Past Ave)</td>\n",
       "      <td>10h 37m</td>\n",
       "      <td>1900-01-01 18:07:35</td>\n",
       "      <td>10.626558</td>\n",
       "      <td>10.626558</td>\n",
       "      <td>7438.590833</td>\n",
       "      <td>0</td>\n",
       "      <td>0.523810</td>\n",
       "    </tr>\n",
       "    <tr>\n",
       "      <th>0</th>\n",
       "      <td>Top 18.0% of Females (LR)</td>\n",
       "      <td>12h 33m</td>\n",
       "      <td>1900-01-01 20:03:25</td>\n",
       "      <td>12.557090</td>\n",
       "      <td>12.557090</td>\n",
       "      <td>8789.963000</td>\n",
       "      <td>87.4167</td>\n",
       "      <td>0.786138</td>\n",
       "    </tr>\n",
       "    <tr>\n",
       "      <th>0</th>\n",
       "      <td>Using own race metrics (lasso)</td>\n",
       "      <td>13h 29m</td>\n",
       "      <td>1900-01-01 20:59:40</td>\n",
       "      <td>13.494696</td>\n",
       "      <td>13.494696</td>\n",
       "      <td>9446.287246</td>\n",
       "      <td>143.669</td>\n",
       "      <td>0.776773</td>\n",
       "    </tr>\n",
       "  </tbody>\n",
       "</table>\n",
       "</div>"
      ],
      "text/plain": [
       "                               Model Name Race Time        Arrival Time  \\\n",
       "0  Using own race metrics (random forest)    9h 30m 1900-01-01 17:00:27   \n",
       "0          Top 6.0% of Females (Past Ave)   10h 37m 1900-01-01 18:07:35   \n",
       "0               Top 18.0% of Females (LR)   12h 33m 1900-01-01 20:03:25   \n",
       "0          Using own race metrics (lasso)   13h 29m 1900-01-01 20:59:40   \n",
       "\n",
       "   Gels Taken  Perpetuam (1 tab)  Fluids Taken (ml) Dark (mins)        R2  \n",
       "0    9.507698           9.507698        6655.388250           0  0.944219  \n",
       "0   10.626558          10.626558        7438.590833           0  0.523810  \n",
       "0   12.557090          12.557090        8789.963000     87.4167  0.786138  \n",
       "0   13.494696          13.494696        9446.287246     143.669  0.776773  "
      ]
     },
     "execution_count": 30,
     "metadata": {},
     "output_type": "execute_result"
    },
    {
     "data": {
      "image/png": "[encoded data removed]",
      "text/plain": [
       "<Figure size 432x288 with 2 Axes>"
      ]
     },
     "metadata": {},
     "output_type": "display_data"
    }
   ],
   "source": [
    "combo = pred_a.append([pred_b, pred_c, pred_d])\n",
    "summary = combo[(combo['Segment']=='fin')].sort_values(by=['Arrival Time'])\n",
    "fig = plt.figure()\n",
    "ax = summary['Duration (mins)'].plot(kind='bar', use_index=False, x = summary['Model Name'], y = summary['Duration (mins)'])\n",
    "ax.set_title(\"Race time prediction vs model accuracy\")\n",
    "ax.set_ylabel(\"Estimated Race Duration (mins)\")\n",
    "ax.set_xlabel(\"Approach Taken\")\n",
    "ax2 = ax.twinx()\n",
    "ax2.plot(summary['R2'].values, linestyle='', marker='o', linewidth=2.0)\n",
    "ax2.set_ylabel(\"Accuracy\");\n",
    "summary[['Model Name', 'Race Time', 'Arrival Time', 'Gels Taken', 'Perpetuam (1 tab)', \n",
    "         'Fluids Taken (ml)', 'Dark (mins)', 'R2']]\n"
   ]
  },
  {
   "cell_type": "markdown",
   "metadata": {},
   "source": [
    "## 4.3 Final Output: The  Race Plan"
   ]
  },
  {
   "cell_type": "markdown",
   "metadata": {},
   "source": [
    "Based on the r2, MSE and cross validation results, the best model to choose is the linear regression model which predicted me finishing in the top 18% of females.  Based on 3 years of Surfcoast Century data, this would place me 10th, 10th and 14th across 2015-2017 respectively and would result in a mean finish time of 12:33.  \n",
    "\n",
    "Using the individual segment results from these females, the following race plan can by built, which covers per segment:\n",
    "\n",
    "    1) Best running pace to pace adequately throughout the 100km\n",
    "    2) Expected arrival time at each checkpoint to not keep supporters waiting.\n",
    "    3) Nutrition requirements in terms of energy drink, gels and perpertuam tabs so I don't run out or carry too much.\n",
    "    4) Predicted time in the dark so that I know when to carry a headlamp.\n",
    "    5) Race duration so that I know if I am on track.\n",
    "    \n",
    " This race plan is below:"
   ]
  },
  {
   "cell_type": "code",
   "execution_count": 31,
   "metadata": {
    "scrolled": false
   },
   "outputs": [
    {
     "data": {
      "text/html": [
       "<div>\n",
       "<style scoped>\n",
       "    .dataframe tbody tr th:only-of-type {\n",
       "        vertical-align: middle;\n",
       "    }\n",
       "\n",
       "    .dataframe tbody tr th {\n",
       "        vertical-align: top;\n",
       "    }\n",
       "\n",
       "    .dataframe thead th {\n",
       "        text-align: right;\n",
       "    }\n",
       "</style>\n",
       "<table border=\"1\" class=\"dataframe\">\n",
       "  <thead>\n",
       "    <tr style=\"text-align: right;\">\n",
       "      <th></th>\n",
       "      <th>Model Name</th>\n",
       "      <th>Segment</th>\n",
       "      <th>Distance</th>\n",
       "      <th>Pace (mins/km)</th>\n",
       "      <th>Duration (mins)</th>\n",
       "      <th>Race Time</th>\n",
       "      <th>Arrival Time</th>\n",
       "      <th>Gels Taken</th>\n",
       "      <th>Perpetuam (1 tab)</th>\n",
       "      <th>Fluids Taken (ml)</th>\n",
       "      <th>Dark (mins)</th>\n",
       "      <th>R2</th>\n",
       "    </tr>\n",
       "  </thead>\n",
       "  <tbody>\n",
       "    <tr>\n",
       "      <th>0</th>\n",
       "      <td>Top 18.0% of Females (LR)</td>\n",
       "      <td>s1</td>\n",
       "      <td>10.29</td>\n",
       "      <td>7.496667</td>\n",
       "      <td>77.140700</td>\n",
       "      <td>1h 17m</td>\n",
       "      <td>1900-01-01 08:47:08</td>\n",
       "      <td>1.285678</td>\n",
       "      <td>1.285678</td>\n",
       "      <td>899.974833</td>\n",
       "      <td>0</td>\n",
       "      <td>0.786138</td>\n",
       "    </tr>\n",
       "    <tr>\n",
       "      <th>0</th>\n",
       "      <td>Top 18.0% of Females (LR)</td>\n",
       "      <td>s2</td>\n",
       "      <td>10.03</td>\n",
       "      <td>6.590000</td>\n",
       "      <td>66.097700</td>\n",
       "      <td>2h 23m</td>\n",
       "      <td>1900-01-01 09:53:14</td>\n",
       "      <td>1.101628</td>\n",
       "      <td>1.101628</td>\n",
       "      <td>771.139833</td>\n",
       "      <td>0</td>\n",
       "      <td>0.786138</td>\n",
       "    </tr>\n",
       "    <tr>\n",
       "      <th>0</th>\n",
       "      <td>Top 18.0% of Females (LR)</td>\n",
       "      <td>s3</td>\n",
       "      <td>10.56</td>\n",
       "      <td>6.610000</td>\n",
       "      <td>69.801600</td>\n",
       "      <td>3h 33m</td>\n",
       "      <td>1900-01-01 11:03:02</td>\n",
       "      <td>1.163360</td>\n",
       "      <td>1.163360</td>\n",
       "      <td>814.352000</td>\n",
       "      <td>0</td>\n",
       "      <td>0.786138</td>\n",
       "    </tr>\n",
       "    <tr>\n",
       "      <th>0</th>\n",
       "      <td>Top 18.0% of Females (LR)</td>\n",
       "      <td>s4</td>\n",
       "      <td>18.48</td>\n",
       "      <td>7.170000</td>\n",
       "      <td>132.501600</td>\n",
       "      <td>5h 45m</td>\n",
       "      <td>1900-01-01 13:15:32</td>\n",
       "      <td>2.208360</td>\n",
       "      <td>2.208360</td>\n",
       "      <td>1545.852000</td>\n",
       "      <td>0</td>\n",
       "      <td>0.786138</td>\n",
       "    </tr>\n",
       "    <tr>\n",
       "      <th>0</th>\n",
       "      <td>Top 18.0% of Females (LR)</td>\n",
       "      <td>s5</td>\n",
       "      <td>20.46</td>\n",
       "      <td>7.976667</td>\n",
       "      <td>163.202600</td>\n",
       "      <td>8h 28m</td>\n",
       "      <td>1900-01-01 15:58:44</td>\n",
       "      <td>2.720043</td>\n",
       "      <td>2.720043</td>\n",
       "      <td>1904.030333</td>\n",
       "      <td>0</td>\n",
       "      <td>0.786138</td>\n",
       "    </tr>\n",
       "    <tr>\n",
       "      <th>0</th>\n",
       "      <td>Top 18.0% of Females (LR)</td>\n",
       "      <td>s6</td>\n",
       "      <td>7.66</td>\n",
       "      <td>8.796667</td>\n",
       "      <td>67.382467</td>\n",
       "      <td>9h 36m</td>\n",
       "      <td>1900-01-01 17:06:07</td>\n",
       "      <td>1.123041</td>\n",
       "      <td>1.123041</td>\n",
       "      <td>786.128778</td>\n",
       "      <td>0</td>\n",
       "      <td>0.786138</td>\n",
       "    </tr>\n",
       "    <tr>\n",
       "      <th>0</th>\n",
       "      <td>Top 18.0% of Females (LR)</td>\n",
       "      <td>s7</td>\n",
       "      <td>8.39</td>\n",
       "      <td>8.186667</td>\n",
       "      <td>68.686133</td>\n",
       "      <td>10h 44m</td>\n",
       "      <td>1900-01-01 18:14:48</td>\n",
       "      <td>1.144769</td>\n",
       "      <td>1.144769</td>\n",
       "      <td>801.338222</td>\n",
       "      <td>0</td>\n",
       "      <td>0.786138</td>\n",
       "    </tr>\n",
       "    <tr>\n",
       "      <th>0</th>\n",
       "      <td>Top 18.0% of Females (LR)</td>\n",
       "      <td>s8</td>\n",
       "      <td>14.13</td>\n",
       "      <td>7.686667</td>\n",
       "      <td>108.612600</td>\n",
       "      <td>12h 33m</td>\n",
       "      <td>1900-01-01 20:03:25</td>\n",
       "      <td>1.810210</td>\n",
       "      <td>1.810210</td>\n",
       "      <td>1267.147000</td>\n",
       "      <td>87.4167</td>\n",
       "      <td>0.786138</td>\n",
       "    </tr>\n",
       "    <tr>\n",
       "      <th>0</th>\n",
       "      <td>Top 18.0% of Females (LR)</td>\n",
       "      <td>fin</td>\n",
       "      <td>100.00</td>\n",
       "      <td>7.534254</td>\n",
       "      <td>753.425400</td>\n",
       "      <td>12h 33m</td>\n",
       "      <td>1900-01-01 20:03:25</td>\n",
       "      <td>12.557090</td>\n",
       "      <td>12.557090</td>\n",
       "      <td>8789.963000</td>\n",
       "      <td>87.4167</td>\n",
       "      <td>0.786138</td>\n",
       "    </tr>\n",
       "  </tbody>\n",
       "</table>\n",
       "</div>"
      ],
      "text/plain": [
       "                  Model Name Segment  Distance  Pace (mins/km)  \\\n",
       "0  Top 18.0% of Females (LR)      s1     10.29        7.496667   \n",
       "0  Top 18.0% of Females (LR)      s2     10.03        6.590000   \n",
       "0  Top 18.0% of Females (LR)      s3     10.56        6.610000   \n",
       "0  Top 18.0% of Females (LR)      s4     18.48        7.170000   \n",
       "0  Top 18.0% of Females (LR)      s5     20.46        7.976667   \n",
       "0  Top 18.0% of Females (LR)      s6      7.66        8.796667   \n",
       "0  Top 18.0% of Females (LR)      s7      8.39        8.186667   \n",
       "0  Top 18.0% of Females (LR)      s8     14.13        7.686667   \n",
       "0  Top 18.0% of Females (LR)     fin    100.00        7.534254   \n",
       "\n",
       "   Duration (mins) Race Time        Arrival Time  Gels Taken  \\\n",
       "0        77.140700    1h 17m 1900-01-01 08:47:08    1.285678   \n",
       "0        66.097700    2h 23m 1900-01-01 09:53:14    1.101628   \n",
       "0        69.801600    3h 33m 1900-01-01 11:03:02    1.163360   \n",
       "0       132.501600    5h 45m 1900-01-01 13:15:32    2.208360   \n",
       "0       163.202600    8h 28m 1900-01-01 15:58:44    2.720043   \n",
       "0        67.382467    9h 36m 1900-01-01 17:06:07    1.123041   \n",
       "0        68.686133   10h 44m 1900-01-01 18:14:48    1.144769   \n",
       "0       108.612600   12h 33m 1900-01-01 20:03:25    1.810210   \n",
       "0       753.425400   12h 33m 1900-01-01 20:03:25   12.557090   \n",
       "\n",
       "   Perpetuam (1 tab)  Fluids Taken (ml) Dark (mins)        R2  \n",
       "0           1.285678         899.974833           0  0.786138  \n",
       "0           1.101628         771.139833           0  0.786138  \n",
       "0           1.163360         814.352000           0  0.786138  \n",
       "0           2.208360        1545.852000           0  0.786138  \n",
       "0           2.720043        1904.030333           0  0.786138  \n",
       "0           1.123041         786.128778           0  0.786138  \n",
       "0           1.144769         801.338222           0  0.786138  \n",
       "0           1.810210        1267.147000     87.4167  0.786138  \n",
       "0          12.557090        8789.963000     87.4167  0.786138  "
      ]
     },
     "execution_count": 31,
     "metadata": {},
     "output_type": "execute_result"
    }
   ],
   "source": [
    "pred_d"
   ]
  }
 ],
 "metadata": {
  "kernelspec": {
   "display_name": "Python 3",
   "language": "python",
   "name": "python3"
  },
  "language_info": {
   "codemirror_mode": {
    "name": "ipython",
    "version": 3
   },
   "file_extension": ".py",
   "mimetype": "text/x-python",
   "name": "python",
   "nbconvert_exporter": "python",
   "pygments_lexer": "ipython3",
   "version": "3.6.5"
  }
 },
 "nbformat": 4,
 "nbformat_minor": 2
}
